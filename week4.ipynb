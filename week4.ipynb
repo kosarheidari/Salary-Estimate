{
 "cells": [
  {
   "cell_type": "code",
   "execution_count": 35,
   "id": "initial_id",
   "metadata": {
    "collapsed": true,
    "ExecuteTime": {
     "end_time": "2023-12-06T11:34:25.059604600Z",
     "start_time": "2023-12-06T11:34:25.038451800Z"
    }
   },
   "outputs": [],
   "source": [
    "import pandas as pd\n",
    "df=pd.read_csv('df.csv')"
   ]
  },
  {
   "cell_type": "code",
   "execution_count": 36,
   "outputs": [
    {
     "data": {
      "text/plain": "                                     Job Title               Salary Estimate  \\\n0                        Senior Data Scientist  $111K-$181K (Glassdoor est.)   \n1            Data Scientist, Product Analytics  $111K-$181K (Glassdoor est.)   \n2                         Data Science Manager  $111K-$181K (Glassdoor est.)   \n3                                 Data Analyst  $111K-$181K (Glassdoor est.)   \n4                       Director, Data Science  $111K-$181K (Glassdoor est.)   \n...                                        ...                           ...   \n5887       Manufacturing Data Analyst Engineer  $42K - $76K (Glassdoor est.)   \n5888                            Data Scientist                            -1   \n5889  Supply Chain Consultant - Data Scientist                            -1   \n5890                     Data Science Engineer                            -1   \n5891      Data Scientist/ Full Stack Developer            $65 - $72 Per Hour   \n\n      Rating                          Company Name       Location  \\\n0        3.5                           Hopper\\n3.5   New York, NY   \n1        4.5                          Noom US\\n4.5   New York, NY   \n2       -1.0                              Decode_M   New York, NY   \n3        3.4                 Sapphire Digital\\n3.4  Lyndhurst, NJ   \n4        3.4       United Entertainment Group\\n3.4   New York, NY   \n...      ...                                   ...            ...   \n5887     3.6                      Hose Master\\n3.6     Euclid, OH   \n5888     4.9                 Bluetree Network\\n4.9    Madison, WI   \n5889     4.0  Kimberly-Clark Corporation, LLC\\n4.0     Neenah, WI   \n5890     4.0            AE Business Solutions\\n4.0    Madison, WI   \n5891     3.7                           Epitec\\n3.7  Wisconsin, WI   \n\n                        Size Founded  Type of ownership  \\\n0      501 to 1000 employees    2007  Company - Private   \n1     1001 to 5000 employees    2008  Company - Private   \n2          1 to 50 employees      -1            Unknown   \n3       201 to 500 employees    2019  Company - Private   \n4        51 to 200 employees    2007  Company - Private   \n...                      ...     ...                ...   \n5887    201 to 500 Employees    1982  Company - Private   \n5888                      -1      -1                 -1   \n5889        10000+ Employees    1872   Company - Public   \n5890     51 to 200 Employees    1949  Company - Private   \n5891  1001 to 5000 Employees    1978  Company - Private   \n\n                                   Industry                  Sector  \\\n0                           Travel Agencies        Travel & Tourism   \n1                 Health, Beauty, & Fitness       Consumer Services   \n2                                        -1                      -1   \n3                                  Internet  Information Technology   \n4                   Advertising & Marketing       Business Services   \n...                                     ...                     ...   \n5887  Electrical & Electronic Manufacturing           Manufacturing   \n5888                                     -1                      -1   \n5889        Consumer Products Manufacturing           Manufacturing   \n5890           Computer Hardware & Software  Information Technology   \n5891                 Staffing & Outsourcing       Business Services   \n\n                         Revenue  \n0       Unknown / Non-Applicable  \n1       Unknown / Non-Applicable  \n2       Unknown / Non-Applicable  \n3       Unknown / Non-Applicable  \n4       Unknown / Non-Applicable  \n...                          ...  \n5887    Unknown / Non-Applicable  \n5888                          -1  \n5889          $10+ billion (USD)  \n5890    $25 to $50 million (USD)  \n5891  $100 to $500 million (USD)  \n\n[5892 rows x 11 columns]",
      "text/html": "<div>\n<style scoped>\n    .dataframe tbody tr th:only-of-type {\n        vertical-align: middle;\n    }\n\n    .dataframe tbody tr th {\n        vertical-align: top;\n    }\n\n    .dataframe thead th {\n        text-align: right;\n    }\n</style>\n<table border=\"1\" class=\"dataframe\">\n  <thead>\n    <tr style=\"text-align: right;\">\n      <th></th>\n      <th>Job Title</th>\n      <th>Salary Estimate</th>\n      <th>Rating</th>\n      <th>Company Name</th>\n      <th>Location</th>\n      <th>Size</th>\n      <th>Founded</th>\n      <th>Type of ownership</th>\n      <th>Industry</th>\n      <th>Sector</th>\n      <th>Revenue</th>\n    </tr>\n  </thead>\n  <tbody>\n    <tr>\n      <th>0</th>\n      <td>Senior Data Scientist</td>\n      <td>$111K-$181K (Glassdoor est.)</td>\n      <td>3.5</td>\n      <td>Hopper\\n3.5</td>\n      <td>New York, NY</td>\n      <td>501 to 1000 employees</td>\n      <td>2007</td>\n      <td>Company - Private</td>\n      <td>Travel Agencies</td>\n      <td>Travel &amp; Tourism</td>\n      <td>Unknown / Non-Applicable</td>\n    </tr>\n    <tr>\n      <th>1</th>\n      <td>Data Scientist, Product Analytics</td>\n      <td>$111K-$181K (Glassdoor est.)</td>\n      <td>4.5</td>\n      <td>Noom US\\n4.5</td>\n      <td>New York, NY</td>\n      <td>1001 to 5000 employees</td>\n      <td>2008</td>\n      <td>Company - Private</td>\n      <td>Health, Beauty, &amp; Fitness</td>\n      <td>Consumer Services</td>\n      <td>Unknown / Non-Applicable</td>\n    </tr>\n    <tr>\n      <th>2</th>\n      <td>Data Science Manager</td>\n      <td>$111K-$181K (Glassdoor est.)</td>\n      <td>-1.0</td>\n      <td>Decode_M</td>\n      <td>New York, NY</td>\n      <td>1 to 50 employees</td>\n      <td>-1</td>\n      <td>Unknown</td>\n      <td>-1</td>\n      <td>-1</td>\n      <td>Unknown / Non-Applicable</td>\n    </tr>\n    <tr>\n      <th>3</th>\n      <td>Data Analyst</td>\n      <td>$111K-$181K (Glassdoor est.)</td>\n      <td>3.4</td>\n      <td>Sapphire Digital\\n3.4</td>\n      <td>Lyndhurst, NJ</td>\n      <td>201 to 500 employees</td>\n      <td>2019</td>\n      <td>Company - Private</td>\n      <td>Internet</td>\n      <td>Information Technology</td>\n      <td>Unknown / Non-Applicable</td>\n    </tr>\n    <tr>\n      <th>4</th>\n      <td>Director, Data Science</td>\n      <td>$111K-$181K (Glassdoor est.)</td>\n      <td>3.4</td>\n      <td>United Entertainment Group\\n3.4</td>\n      <td>New York, NY</td>\n      <td>51 to 200 employees</td>\n      <td>2007</td>\n      <td>Company - Private</td>\n      <td>Advertising &amp; Marketing</td>\n      <td>Business Services</td>\n      <td>Unknown / Non-Applicable</td>\n    </tr>\n    <tr>\n      <th>...</th>\n      <td>...</td>\n      <td>...</td>\n      <td>...</td>\n      <td>...</td>\n      <td>...</td>\n      <td>...</td>\n      <td>...</td>\n      <td>...</td>\n      <td>...</td>\n      <td>...</td>\n      <td>...</td>\n    </tr>\n    <tr>\n      <th>5887</th>\n      <td>Manufacturing Data Analyst Engineer</td>\n      <td>$42K - $76K (Glassdoor est.)</td>\n      <td>3.6</td>\n      <td>Hose Master\\n3.6</td>\n      <td>Euclid, OH</td>\n      <td>201 to 500 Employees</td>\n      <td>1982</td>\n      <td>Company - Private</td>\n      <td>Electrical &amp; Electronic Manufacturing</td>\n      <td>Manufacturing</td>\n      <td>Unknown / Non-Applicable</td>\n    </tr>\n    <tr>\n      <th>5888</th>\n      <td>Data Scientist</td>\n      <td>-1</td>\n      <td>4.9</td>\n      <td>Bluetree Network\\n4.9</td>\n      <td>Madison, WI</td>\n      <td>-1</td>\n      <td>-1</td>\n      <td>-1</td>\n      <td>-1</td>\n      <td>-1</td>\n      <td>-1</td>\n    </tr>\n    <tr>\n      <th>5889</th>\n      <td>Supply Chain Consultant - Data Scientist</td>\n      <td>-1</td>\n      <td>4.0</td>\n      <td>Kimberly-Clark Corporation, LLC\\n4.0</td>\n      <td>Neenah, WI</td>\n      <td>10000+ Employees</td>\n      <td>1872</td>\n      <td>Company - Public</td>\n      <td>Consumer Products Manufacturing</td>\n      <td>Manufacturing</td>\n      <td>$10+ billion (USD)</td>\n    </tr>\n    <tr>\n      <th>5890</th>\n      <td>Data Science Engineer</td>\n      <td>-1</td>\n      <td>4.0</td>\n      <td>AE Business Solutions\\n4.0</td>\n      <td>Madison, WI</td>\n      <td>51 to 200 Employees</td>\n      <td>1949</td>\n      <td>Company - Private</td>\n      <td>Computer Hardware &amp; Software</td>\n      <td>Information Technology</td>\n      <td>$25 to $50 million (USD)</td>\n    </tr>\n    <tr>\n      <th>5891</th>\n      <td>Data Scientist/ Full Stack Developer</td>\n      <td>$65 - $72 Per Hour</td>\n      <td>3.7</td>\n      <td>Epitec\\n3.7</td>\n      <td>Wisconsin, WI</td>\n      <td>1001 to 5000 Employees</td>\n      <td>1978</td>\n      <td>Company - Private</td>\n      <td>Staffing &amp; Outsourcing</td>\n      <td>Business Services</td>\n      <td>$100 to $500 million (USD)</td>\n    </tr>\n  </tbody>\n</table>\n<p>5892 rows × 11 columns</p>\n</div>"
     },
     "execution_count": 36,
     "metadata": {},
     "output_type": "execute_result"
    }
   ],
   "source": [
    "df"
   ],
   "metadata": {
    "collapsed": false,
    "ExecuteTime": {
     "end_time": "2023-12-06T11:34:25.120799900Z",
     "start_time": "2023-12-06T11:34:25.068121300Z"
    }
   },
   "id": "8960a4c893322cf7"
  },
  {
   "cell_type": "code",
   "execution_count": 37,
   "outputs": [],
   "source": [
    "def dollors_remover(a) : \n",
    "    a=a.replace('$' , ' ')\n",
    "    return a"
   ],
   "metadata": {
    "collapsed": false,
    "ExecuteTime": {
     "end_time": "2023-12-06T11:34:25.120799900Z",
     "start_time": "2023-12-06T11:34:25.071723200Z"
    }
   },
   "id": "c335b3636cc2a515"
  },
  {
   "cell_type": "code",
   "execution_count": 38,
   "outputs": [
    {
     "data": {
      "text/plain": "' 111K- 181K (Glassdoor est.)'"
     },
     "execution_count": 38,
     "metadata": {},
     "output_type": "execute_result"
    }
   ],
   "source": [
    "dollors_remover('$111K-$181K (Glassdoor est.)')"
   ],
   "metadata": {
    "collapsed": false,
    "ExecuteTime": {
     "end_time": "2023-12-06T11:34:25.120799900Z",
     "start_time": "2023-12-06T11:34:25.076756500Z"
    }
   },
   "id": "7103658fd10a562b"
  },
  {
   "cell_type": "code",
   "execution_count": 39,
   "outputs": [
    {
     "data": {
      "text/plain": "0        111K- 181K (Glassdoor est.)\n1        111K- 181K (Glassdoor est.)\n2        111K- 181K (Glassdoor est.)\n3        111K- 181K (Glassdoor est.)\n4        111K- 181K (Glassdoor est.)\n                    ...             \n5887     42K -  76K (Glassdoor est.)\n5888                              -1\n5889                              -1\n5890                              -1\n5891               65 -  72 Per Hour\nName: Salary Estimate, Length: 5892, dtype: object"
     },
     "execution_count": 39,
     "metadata": {},
     "output_type": "execute_result"
    }
   ],
   "source": [
    " df['Salary Estimate'].apply(dollors_remover)\n"
   ],
   "metadata": {
    "collapsed": false,
    "ExecuteTime": {
     "end_time": "2023-12-06T11:34:25.120799900Z",
     "start_time": "2023-12-06T11:34:25.083969900Z"
    }
   },
   "id": "3bce8f2983f50346"
  },
  {
   "cell_type": "code",
   "execution_count": 40,
   "outputs": [],
   "source": [
    "df['Salary Estimate']=df['Salary Estimate'].apply(dollors_remover)"
   ],
   "metadata": {
    "collapsed": false,
    "ExecuteTime": {
     "end_time": "2023-12-06T11:34:25.120799900Z",
     "start_time": "2023-12-06T11:34:25.092186900Z"
    }
   },
   "id": "dd53d542253c48dc"
  },
  {
   "cell_type": "code",
   "execution_count": 41,
   "outputs": [
    {
     "data": {
      "text/plain": "                                     Job Title               Salary Estimate  \\\n0                        Senior Data Scientist   111K- 181K (Glassdoor est.)   \n1            Data Scientist, Product Analytics   111K- 181K (Glassdoor est.)   \n2                         Data Science Manager   111K- 181K (Glassdoor est.)   \n3                                 Data Analyst   111K- 181K (Glassdoor est.)   \n4                       Director, Data Science   111K- 181K (Glassdoor est.)   \n...                                        ...                           ...   \n5887       Manufacturing Data Analyst Engineer   42K -  76K (Glassdoor est.)   \n5888                            Data Scientist                            -1   \n5889  Supply Chain Consultant - Data Scientist                            -1   \n5890                     Data Science Engineer                            -1   \n5891      Data Scientist/ Full Stack Developer             65 -  72 Per Hour   \n\n      Rating                          Company Name       Location  \\\n0        3.5                           Hopper\\n3.5   New York, NY   \n1        4.5                          Noom US\\n4.5   New York, NY   \n2       -1.0                              Decode_M   New York, NY   \n3        3.4                 Sapphire Digital\\n3.4  Lyndhurst, NJ   \n4        3.4       United Entertainment Group\\n3.4   New York, NY   \n...      ...                                   ...            ...   \n5887     3.6                      Hose Master\\n3.6     Euclid, OH   \n5888     4.9                 Bluetree Network\\n4.9    Madison, WI   \n5889     4.0  Kimberly-Clark Corporation, LLC\\n4.0     Neenah, WI   \n5890     4.0            AE Business Solutions\\n4.0    Madison, WI   \n5891     3.7                           Epitec\\n3.7  Wisconsin, WI   \n\n                        Size Founded  Type of ownership  \\\n0      501 to 1000 employees    2007  Company - Private   \n1     1001 to 5000 employees    2008  Company - Private   \n2          1 to 50 employees      -1            Unknown   \n3       201 to 500 employees    2019  Company - Private   \n4        51 to 200 employees    2007  Company - Private   \n...                      ...     ...                ...   \n5887    201 to 500 Employees    1982  Company - Private   \n5888                      -1      -1                 -1   \n5889        10000+ Employees    1872   Company - Public   \n5890     51 to 200 Employees    1949  Company - Private   \n5891  1001 to 5000 Employees    1978  Company - Private   \n\n                                   Industry                  Sector  \\\n0                           Travel Agencies        Travel & Tourism   \n1                 Health, Beauty, & Fitness       Consumer Services   \n2                                        -1                      -1   \n3                                  Internet  Information Technology   \n4                   Advertising & Marketing       Business Services   \n...                                     ...                     ...   \n5887  Electrical & Electronic Manufacturing           Manufacturing   \n5888                                     -1                      -1   \n5889        Consumer Products Manufacturing           Manufacturing   \n5890           Computer Hardware & Software  Information Technology   \n5891                 Staffing & Outsourcing       Business Services   \n\n                         Revenue  \n0       Unknown / Non-Applicable  \n1       Unknown / Non-Applicable  \n2       Unknown / Non-Applicable  \n3       Unknown / Non-Applicable  \n4       Unknown / Non-Applicable  \n...                          ...  \n5887    Unknown / Non-Applicable  \n5888                          -1  \n5889          $10+ billion (USD)  \n5890    $25 to $50 million (USD)  \n5891  $100 to $500 million (USD)  \n\n[5892 rows x 11 columns]",
      "text/html": "<div>\n<style scoped>\n    .dataframe tbody tr th:only-of-type {\n        vertical-align: middle;\n    }\n\n    .dataframe tbody tr th {\n        vertical-align: top;\n    }\n\n    .dataframe thead th {\n        text-align: right;\n    }\n</style>\n<table border=\"1\" class=\"dataframe\">\n  <thead>\n    <tr style=\"text-align: right;\">\n      <th></th>\n      <th>Job Title</th>\n      <th>Salary Estimate</th>\n      <th>Rating</th>\n      <th>Company Name</th>\n      <th>Location</th>\n      <th>Size</th>\n      <th>Founded</th>\n      <th>Type of ownership</th>\n      <th>Industry</th>\n      <th>Sector</th>\n      <th>Revenue</th>\n    </tr>\n  </thead>\n  <tbody>\n    <tr>\n      <th>0</th>\n      <td>Senior Data Scientist</td>\n      <td>111K- 181K (Glassdoor est.)</td>\n      <td>3.5</td>\n      <td>Hopper\\n3.5</td>\n      <td>New York, NY</td>\n      <td>501 to 1000 employees</td>\n      <td>2007</td>\n      <td>Company - Private</td>\n      <td>Travel Agencies</td>\n      <td>Travel &amp; Tourism</td>\n      <td>Unknown / Non-Applicable</td>\n    </tr>\n    <tr>\n      <th>1</th>\n      <td>Data Scientist, Product Analytics</td>\n      <td>111K- 181K (Glassdoor est.)</td>\n      <td>4.5</td>\n      <td>Noom US\\n4.5</td>\n      <td>New York, NY</td>\n      <td>1001 to 5000 employees</td>\n      <td>2008</td>\n      <td>Company - Private</td>\n      <td>Health, Beauty, &amp; Fitness</td>\n      <td>Consumer Services</td>\n      <td>Unknown / Non-Applicable</td>\n    </tr>\n    <tr>\n      <th>2</th>\n      <td>Data Science Manager</td>\n      <td>111K- 181K (Glassdoor est.)</td>\n      <td>-1.0</td>\n      <td>Decode_M</td>\n      <td>New York, NY</td>\n      <td>1 to 50 employees</td>\n      <td>-1</td>\n      <td>Unknown</td>\n      <td>-1</td>\n      <td>-1</td>\n      <td>Unknown / Non-Applicable</td>\n    </tr>\n    <tr>\n      <th>3</th>\n      <td>Data Analyst</td>\n      <td>111K- 181K (Glassdoor est.)</td>\n      <td>3.4</td>\n      <td>Sapphire Digital\\n3.4</td>\n      <td>Lyndhurst, NJ</td>\n      <td>201 to 500 employees</td>\n      <td>2019</td>\n      <td>Company - Private</td>\n      <td>Internet</td>\n      <td>Information Technology</td>\n      <td>Unknown / Non-Applicable</td>\n    </tr>\n    <tr>\n      <th>4</th>\n      <td>Director, Data Science</td>\n      <td>111K- 181K (Glassdoor est.)</td>\n      <td>3.4</td>\n      <td>United Entertainment Group\\n3.4</td>\n      <td>New York, NY</td>\n      <td>51 to 200 employees</td>\n      <td>2007</td>\n      <td>Company - Private</td>\n      <td>Advertising &amp; Marketing</td>\n      <td>Business Services</td>\n      <td>Unknown / Non-Applicable</td>\n    </tr>\n    <tr>\n      <th>...</th>\n      <td>...</td>\n      <td>...</td>\n      <td>...</td>\n      <td>...</td>\n      <td>...</td>\n      <td>...</td>\n      <td>...</td>\n      <td>...</td>\n      <td>...</td>\n      <td>...</td>\n      <td>...</td>\n    </tr>\n    <tr>\n      <th>5887</th>\n      <td>Manufacturing Data Analyst Engineer</td>\n      <td>42K -  76K (Glassdoor est.)</td>\n      <td>3.6</td>\n      <td>Hose Master\\n3.6</td>\n      <td>Euclid, OH</td>\n      <td>201 to 500 Employees</td>\n      <td>1982</td>\n      <td>Company - Private</td>\n      <td>Electrical &amp; Electronic Manufacturing</td>\n      <td>Manufacturing</td>\n      <td>Unknown / Non-Applicable</td>\n    </tr>\n    <tr>\n      <th>5888</th>\n      <td>Data Scientist</td>\n      <td>-1</td>\n      <td>4.9</td>\n      <td>Bluetree Network\\n4.9</td>\n      <td>Madison, WI</td>\n      <td>-1</td>\n      <td>-1</td>\n      <td>-1</td>\n      <td>-1</td>\n      <td>-1</td>\n      <td>-1</td>\n    </tr>\n    <tr>\n      <th>5889</th>\n      <td>Supply Chain Consultant - Data Scientist</td>\n      <td>-1</td>\n      <td>4.0</td>\n      <td>Kimberly-Clark Corporation, LLC\\n4.0</td>\n      <td>Neenah, WI</td>\n      <td>10000+ Employees</td>\n      <td>1872</td>\n      <td>Company - Public</td>\n      <td>Consumer Products Manufacturing</td>\n      <td>Manufacturing</td>\n      <td>$10+ billion (USD)</td>\n    </tr>\n    <tr>\n      <th>5890</th>\n      <td>Data Science Engineer</td>\n      <td>-1</td>\n      <td>4.0</td>\n      <td>AE Business Solutions\\n4.0</td>\n      <td>Madison, WI</td>\n      <td>51 to 200 Employees</td>\n      <td>1949</td>\n      <td>Company - Private</td>\n      <td>Computer Hardware &amp; Software</td>\n      <td>Information Technology</td>\n      <td>$25 to $50 million (USD)</td>\n    </tr>\n    <tr>\n      <th>5891</th>\n      <td>Data Scientist/ Full Stack Developer</td>\n      <td>65 -  72 Per Hour</td>\n      <td>3.7</td>\n      <td>Epitec\\n3.7</td>\n      <td>Wisconsin, WI</td>\n      <td>1001 to 5000 Employees</td>\n      <td>1978</td>\n      <td>Company - Private</td>\n      <td>Staffing &amp; Outsourcing</td>\n      <td>Business Services</td>\n      <td>$100 to $500 million (USD)</td>\n    </tr>\n  </tbody>\n</table>\n<p>5892 rows × 11 columns</p>\n</div>"
     },
     "execution_count": 41,
     "metadata": {},
     "output_type": "execute_result"
    }
   ],
   "source": [
    "df"
   ],
   "metadata": {
    "collapsed": false,
    "ExecuteTime": {
     "end_time": "2023-12-06T11:34:25.120799900Z",
     "start_time": "2023-12-06T11:34:25.099514600Z"
    }
   },
   "id": "f522c039fd02fdc1"
  },
  {
   "cell_type": "code",
   "execution_count": 44,
   "outputs": [],
   "source": [
    "def k_remover(a) :\n",
    "    a=a.replace('K' , \" \")\n",
    "    return a"
   ],
   "metadata": {
    "collapsed": false,
    "ExecuteTime": {
     "end_time": "2023-12-06T11:35:55.256683600Z",
     "start_time": "2023-12-06T11:35:55.248963200Z"
    }
   },
   "id": "dc3eaaf6de3e3eff"
  },
  {
   "cell_type": "code",
   "execution_count": 46,
   "outputs": [],
   "source": [
    "df['Salary Estimate']=df['Salary Estimate'].apply(k_remover)"
   ],
   "metadata": {
    "collapsed": false,
    "ExecuteTime": {
     "end_time": "2023-12-06T11:37:06.637056300Z",
     "start_time": "2023-12-06T11:37:06.633791500Z"
    }
   },
   "id": "de77558f600b2ef6"
  },
  {
   "cell_type": "code",
   "execution_count": 48,
   "outputs": [
    {
     "data": {
      "text/plain": "                                     Job Title               Salary Estimate  \\\n0                        Senior Data Scientist   111 - 181  (Glassdoor est.)   \n1            Data Scientist, Product Analytics   111 - 181  (Glassdoor est.)   \n2                         Data Science Manager   111 - 181  (Glassdoor est.)   \n3                                 Data Analyst   111 - 181  (Glassdoor est.)   \n4                       Director, Data Science   111 - 181  (Glassdoor est.)   \n...                                        ...                           ...   \n5887       Manufacturing Data Analyst Engineer   42  -  76  (Glassdoor est.)   \n5888                            Data Scientist                            -1   \n5889  Supply Chain Consultant - Data Scientist                            -1   \n5890                     Data Science Engineer                            -1   \n5891      Data Scientist/ Full Stack Developer             65 -  72 Per Hour   \n\n      Rating                          Company Name       Location  \\\n0        3.5                           Hopper\\n3.5   New York, NY   \n1        4.5                          Noom US\\n4.5   New York, NY   \n2       -1.0                              Decode_M   New York, NY   \n3        3.4                 Sapphire Digital\\n3.4  Lyndhurst, NJ   \n4        3.4       United Entertainment Group\\n3.4   New York, NY   \n...      ...                                   ...            ...   \n5887     3.6                      Hose Master\\n3.6     Euclid, OH   \n5888     4.9                 Bluetree Network\\n4.9    Madison, WI   \n5889     4.0  Kimberly-Clark Corporation, LLC\\n4.0     Neenah, WI   \n5890     4.0            AE Business Solutions\\n4.0    Madison, WI   \n5891     3.7                           Epitec\\n3.7  Wisconsin, WI   \n\n                        Size Founded  Type of ownership  \\\n0      501 to 1000 employees    2007  Company - Private   \n1     1001 to 5000 employees    2008  Company - Private   \n2          1 to 50 employees      -1            Unknown   \n3       201 to 500 employees    2019  Company - Private   \n4        51 to 200 employees    2007  Company - Private   \n...                      ...     ...                ...   \n5887    201 to 500 Employees    1982  Company - Private   \n5888                      -1      -1                 -1   \n5889        10000+ Employees    1872   Company - Public   \n5890     51 to 200 Employees    1949  Company - Private   \n5891  1001 to 5000 Employees    1978  Company - Private   \n\n                                   Industry                  Sector  \\\n0                           Travel Agencies        Travel & Tourism   \n1                 Health, Beauty, & Fitness       Consumer Services   \n2                                        -1                      -1   \n3                                  Internet  Information Technology   \n4                   Advertising & Marketing       Business Services   \n...                                     ...                     ...   \n5887  Electrical & Electronic Manufacturing           Manufacturing   \n5888                                     -1                      -1   \n5889        Consumer Products Manufacturing           Manufacturing   \n5890           Computer Hardware & Software  Information Technology   \n5891                 Staffing & Outsourcing       Business Services   \n\n                         Revenue  \n0       Unknown / Non-Applicable  \n1       Unknown / Non-Applicable  \n2       Unknown / Non-Applicable  \n3       Unknown / Non-Applicable  \n4       Unknown / Non-Applicable  \n...                          ...  \n5887    Unknown / Non-Applicable  \n5888                          -1  \n5889          $10+ billion (USD)  \n5890    $25 to $50 million (USD)  \n5891  $100 to $500 million (USD)  \n\n[5892 rows x 11 columns]",
      "text/html": "<div>\n<style scoped>\n    .dataframe tbody tr th:only-of-type {\n        vertical-align: middle;\n    }\n\n    .dataframe tbody tr th {\n        vertical-align: top;\n    }\n\n    .dataframe thead th {\n        text-align: right;\n    }\n</style>\n<table border=\"1\" class=\"dataframe\">\n  <thead>\n    <tr style=\"text-align: right;\">\n      <th></th>\n      <th>Job Title</th>\n      <th>Salary Estimate</th>\n      <th>Rating</th>\n      <th>Company Name</th>\n      <th>Location</th>\n      <th>Size</th>\n      <th>Founded</th>\n      <th>Type of ownership</th>\n      <th>Industry</th>\n      <th>Sector</th>\n      <th>Revenue</th>\n    </tr>\n  </thead>\n  <tbody>\n    <tr>\n      <th>0</th>\n      <td>Senior Data Scientist</td>\n      <td>111 - 181  (Glassdoor est.)</td>\n      <td>3.5</td>\n      <td>Hopper\\n3.5</td>\n      <td>New York, NY</td>\n      <td>501 to 1000 employees</td>\n      <td>2007</td>\n      <td>Company - Private</td>\n      <td>Travel Agencies</td>\n      <td>Travel &amp; Tourism</td>\n      <td>Unknown / Non-Applicable</td>\n    </tr>\n    <tr>\n      <th>1</th>\n      <td>Data Scientist, Product Analytics</td>\n      <td>111 - 181  (Glassdoor est.)</td>\n      <td>4.5</td>\n      <td>Noom US\\n4.5</td>\n      <td>New York, NY</td>\n      <td>1001 to 5000 employees</td>\n      <td>2008</td>\n      <td>Company - Private</td>\n      <td>Health, Beauty, &amp; Fitness</td>\n      <td>Consumer Services</td>\n      <td>Unknown / Non-Applicable</td>\n    </tr>\n    <tr>\n      <th>2</th>\n      <td>Data Science Manager</td>\n      <td>111 - 181  (Glassdoor est.)</td>\n      <td>-1.0</td>\n      <td>Decode_M</td>\n      <td>New York, NY</td>\n      <td>1 to 50 employees</td>\n      <td>-1</td>\n      <td>Unknown</td>\n      <td>-1</td>\n      <td>-1</td>\n      <td>Unknown / Non-Applicable</td>\n    </tr>\n    <tr>\n      <th>3</th>\n      <td>Data Analyst</td>\n      <td>111 - 181  (Glassdoor est.)</td>\n      <td>3.4</td>\n      <td>Sapphire Digital\\n3.4</td>\n      <td>Lyndhurst, NJ</td>\n      <td>201 to 500 employees</td>\n      <td>2019</td>\n      <td>Company - Private</td>\n      <td>Internet</td>\n      <td>Information Technology</td>\n      <td>Unknown / Non-Applicable</td>\n    </tr>\n    <tr>\n      <th>4</th>\n      <td>Director, Data Science</td>\n      <td>111 - 181  (Glassdoor est.)</td>\n      <td>3.4</td>\n      <td>United Entertainment Group\\n3.4</td>\n      <td>New York, NY</td>\n      <td>51 to 200 employees</td>\n      <td>2007</td>\n      <td>Company - Private</td>\n      <td>Advertising &amp; Marketing</td>\n      <td>Business Services</td>\n      <td>Unknown / Non-Applicable</td>\n    </tr>\n    <tr>\n      <th>...</th>\n      <td>...</td>\n      <td>...</td>\n      <td>...</td>\n      <td>...</td>\n      <td>...</td>\n      <td>...</td>\n      <td>...</td>\n      <td>...</td>\n      <td>...</td>\n      <td>...</td>\n      <td>...</td>\n    </tr>\n    <tr>\n      <th>5887</th>\n      <td>Manufacturing Data Analyst Engineer</td>\n      <td>42  -  76  (Glassdoor est.)</td>\n      <td>3.6</td>\n      <td>Hose Master\\n3.6</td>\n      <td>Euclid, OH</td>\n      <td>201 to 500 Employees</td>\n      <td>1982</td>\n      <td>Company - Private</td>\n      <td>Electrical &amp; Electronic Manufacturing</td>\n      <td>Manufacturing</td>\n      <td>Unknown / Non-Applicable</td>\n    </tr>\n    <tr>\n      <th>5888</th>\n      <td>Data Scientist</td>\n      <td>-1</td>\n      <td>4.9</td>\n      <td>Bluetree Network\\n4.9</td>\n      <td>Madison, WI</td>\n      <td>-1</td>\n      <td>-1</td>\n      <td>-1</td>\n      <td>-1</td>\n      <td>-1</td>\n      <td>-1</td>\n    </tr>\n    <tr>\n      <th>5889</th>\n      <td>Supply Chain Consultant - Data Scientist</td>\n      <td>-1</td>\n      <td>4.0</td>\n      <td>Kimberly-Clark Corporation, LLC\\n4.0</td>\n      <td>Neenah, WI</td>\n      <td>10000+ Employees</td>\n      <td>1872</td>\n      <td>Company - Public</td>\n      <td>Consumer Products Manufacturing</td>\n      <td>Manufacturing</td>\n      <td>$10+ billion (USD)</td>\n    </tr>\n    <tr>\n      <th>5890</th>\n      <td>Data Science Engineer</td>\n      <td>-1</td>\n      <td>4.0</td>\n      <td>AE Business Solutions\\n4.0</td>\n      <td>Madison, WI</td>\n      <td>51 to 200 Employees</td>\n      <td>1949</td>\n      <td>Company - Private</td>\n      <td>Computer Hardware &amp; Software</td>\n      <td>Information Technology</td>\n      <td>$25 to $50 million (USD)</td>\n    </tr>\n    <tr>\n      <th>5891</th>\n      <td>Data Scientist/ Full Stack Developer</td>\n      <td>65 -  72 Per Hour</td>\n      <td>3.7</td>\n      <td>Epitec\\n3.7</td>\n      <td>Wisconsin, WI</td>\n      <td>1001 to 5000 Employees</td>\n      <td>1978</td>\n      <td>Company - Private</td>\n      <td>Staffing &amp; Outsourcing</td>\n      <td>Business Services</td>\n      <td>$100 to $500 million (USD)</td>\n    </tr>\n  </tbody>\n</table>\n<p>5892 rows × 11 columns</p>\n</div>"
     },
     "execution_count": 48,
     "metadata": {},
     "output_type": "execute_result"
    }
   ],
   "source": [
    "df"
   ],
   "metadata": {
    "collapsed": false,
    "ExecuteTime": {
     "end_time": "2023-12-06T11:37:18.144839300Z",
     "start_time": "2023-12-06T11:37:18.128043100Z"
    }
   },
   "id": "d240567aefafed98"
  },
  {
   "cell_type": "code",
   "execution_count": 50,
   "outputs": [],
   "source": [
    "df=df[df['Salary Estimate'] != '-1']"
   ],
   "metadata": {
    "collapsed": false,
    "ExecuteTime": {
     "end_time": "2023-12-06T11:39:14.927200100Z",
     "start_time": "2023-12-06T11:39:14.922220800Z"
    }
   },
   "id": "45b7b5c7de27ef00"
  },
  {
   "cell_type": "code",
   "execution_count": 52,
   "outputs": [
    {
     "data": {
      "text/plain": "                                              Job Title  \\\n0                                 Senior Data Scientist   \n1                     Data Scientist, Product Analytics   \n2                                  Data Science Manager   \n3                                          Data Analyst   \n4                                Director, Data Science   \n...                                                 ...   \n5882              Supervisory Research Health Scientist   \n5883                  Senior SAS Programmer (Scientist)   \n5886  Senior Data Analyst - Product Analytics (open ...   \n5887                Manufacturing Data Analyst Engineer   \n5891               Data Scientist/ Full Stack Developer   \n\n                    Salary Estimate  Rating  \\\n0       111 - 181  (Glassdoor est.)     3.5   \n1       111 - 181  (Glassdoor est.)     4.5   \n2       111 - 181  (Glassdoor est.)    -1.0   \n3       111 - 181  (Glassdoor est.)     3.4   \n4       111 - 181  (Glassdoor est.)     3.4   \n...                             ...     ...   \n5882    47  -  89  (Glassdoor est.)     4.2   \n5883   66  -  113  (Glassdoor est.)     4.0   \n5886   67  -  111  (Glassdoor est.)     4.0   \n5887    42  -  76  (Glassdoor est.)     3.6   \n5891              65 -  72 Per Hour     3.7   \n\n                                         Company Name        Location  \\\n0                                         Hopper\\n3.5    New York, NY   \n1                                        Noom US\\n4.5    New York, NY   \n2                                            Decode_M    New York, NY   \n3                               Sapphire Digital\\n3.4   Lyndhurst, NJ   \n4                     United Entertainment Group\\n3.4    New York, NY   \n...                                               ...             ...   \n5882  Centers for Disease Control and Prevention\\n4.2  Cincinnati, OH   \n5883                                     Certara\\n4.0  Cincinnati, OH   \n5886                                   New Relic\\n4.0  Cincinnati, OH   \n5887                                 Hose Master\\n3.6      Euclid, OH   \n5891                                      Epitec\\n3.7   Wisconsin, WI   \n\n                        Size Founded  Type of ownership  \\\n0      501 to 1000 employees    2007  Company - Private   \n1     1001 to 5000 employees    2008  Company - Private   \n2          1 to 50 employees      -1            Unknown   \n3       201 to 500 employees    2019  Company - Private   \n4        51 to 200 employees    2007  Company - Private   \n...                      ...     ...                ...   \n5882        10000+ Employees    1946         Government   \n5883   501 to 1000 Employees    2008   Company - Public   \n5886  1001 to 5000 Employees    2008   Company - Public   \n5887    201 to 500 Employees    1982  Company - Private   \n5891  1001 to 5000 Employees    1978  Company - Private   \n\n                                   Industry                     Sector  \\\n0                           Travel Agencies           Travel & Tourism   \n1                 Health, Beauty, & Fitness          Consumer Services   \n2                                        -1                         -1   \n3                                  Internet     Information Technology   \n4                   Advertising & Marketing          Business Services   \n...                                     ...                        ...   \n5882                       Federal Agencies                 Government   \n5883              Biotech & Pharmaceuticals  Biotech & Pharmaceuticals   \n5886           Computer Hardware & Software     Information Technology   \n5887  Electrical & Electronic Manufacturing              Manufacturing   \n5891                 Staffing & Outsourcing          Business Services   \n\n                         Revenue  \n0       Unknown / Non-Applicable  \n1       Unknown / Non-Applicable  \n2       Unknown / Non-Applicable  \n3       Unknown / Non-Applicable  \n4       Unknown / Non-Applicable  \n...                          ...  \n5882    Unknown / Non-Applicable  \n5883    Unknown / Non-Applicable  \n5886  $100 to $500 million (USD)  \n5887    Unknown / Non-Applicable  \n5891  $100 to $500 million (USD)  \n\n[5526 rows x 11 columns]",
      "text/html": "<div>\n<style scoped>\n    .dataframe tbody tr th:only-of-type {\n        vertical-align: middle;\n    }\n\n    .dataframe tbody tr th {\n        vertical-align: top;\n    }\n\n    .dataframe thead th {\n        text-align: right;\n    }\n</style>\n<table border=\"1\" class=\"dataframe\">\n  <thead>\n    <tr style=\"text-align: right;\">\n      <th></th>\n      <th>Job Title</th>\n      <th>Salary Estimate</th>\n      <th>Rating</th>\n      <th>Company Name</th>\n      <th>Location</th>\n      <th>Size</th>\n      <th>Founded</th>\n      <th>Type of ownership</th>\n      <th>Industry</th>\n      <th>Sector</th>\n      <th>Revenue</th>\n    </tr>\n  </thead>\n  <tbody>\n    <tr>\n      <th>0</th>\n      <td>Senior Data Scientist</td>\n      <td>111 - 181  (Glassdoor est.)</td>\n      <td>3.5</td>\n      <td>Hopper\\n3.5</td>\n      <td>New York, NY</td>\n      <td>501 to 1000 employees</td>\n      <td>2007</td>\n      <td>Company - Private</td>\n      <td>Travel Agencies</td>\n      <td>Travel &amp; Tourism</td>\n      <td>Unknown / Non-Applicable</td>\n    </tr>\n    <tr>\n      <th>1</th>\n      <td>Data Scientist, Product Analytics</td>\n      <td>111 - 181  (Glassdoor est.)</td>\n      <td>4.5</td>\n      <td>Noom US\\n4.5</td>\n      <td>New York, NY</td>\n      <td>1001 to 5000 employees</td>\n      <td>2008</td>\n      <td>Company - Private</td>\n      <td>Health, Beauty, &amp; Fitness</td>\n      <td>Consumer Services</td>\n      <td>Unknown / Non-Applicable</td>\n    </tr>\n    <tr>\n      <th>2</th>\n      <td>Data Science Manager</td>\n      <td>111 - 181  (Glassdoor est.)</td>\n      <td>-1.0</td>\n      <td>Decode_M</td>\n      <td>New York, NY</td>\n      <td>1 to 50 employees</td>\n      <td>-1</td>\n      <td>Unknown</td>\n      <td>-1</td>\n      <td>-1</td>\n      <td>Unknown / Non-Applicable</td>\n    </tr>\n    <tr>\n      <th>3</th>\n      <td>Data Analyst</td>\n      <td>111 - 181  (Glassdoor est.)</td>\n      <td>3.4</td>\n      <td>Sapphire Digital\\n3.4</td>\n      <td>Lyndhurst, NJ</td>\n      <td>201 to 500 employees</td>\n      <td>2019</td>\n      <td>Company - Private</td>\n      <td>Internet</td>\n      <td>Information Technology</td>\n      <td>Unknown / Non-Applicable</td>\n    </tr>\n    <tr>\n      <th>4</th>\n      <td>Director, Data Science</td>\n      <td>111 - 181  (Glassdoor est.)</td>\n      <td>3.4</td>\n      <td>United Entertainment Group\\n3.4</td>\n      <td>New York, NY</td>\n      <td>51 to 200 employees</td>\n      <td>2007</td>\n      <td>Company - Private</td>\n      <td>Advertising &amp; Marketing</td>\n      <td>Business Services</td>\n      <td>Unknown / Non-Applicable</td>\n    </tr>\n    <tr>\n      <th>...</th>\n      <td>...</td>\n      <td>...</td>\n      <td>...</td>\n      <td>...</td>\n      <td>...</td>\n      <td>...</td>\n      <td>...</td>\n      <td>...</td>\n      <td>...</td>\n      <td>...</td>\n      <td>...</td>\n    </tr>\n    <tr>\n      <th>5882</th>\n      <td>Supervisory Research Health Scientist</td>\n      <td>47  -  89  (Glassdoor est.)</td>\n      <td>4.2</td>\n      <td>Centers for Disease Control and Prevention\\n4.2</td>\n      <td>Cincinnati, OH</td>\n      <td>10000+ Employees</td>\n      <td>1946</td>\n      <td>Government</td>\n      <td>Federal Agencies</td>\n      <td>Government</td>\n      <td>Unknown / Non-Applicable</td>\n    </tr>\n    <tr>\n      <th>5883</th>\n      <td>Senior SAS Programmer (Scientist)</td>\n      <td>66  -  113  (Glassdoor est.)</td>\n      <td>4.0</td>\n      <td>Certara\\n4.0</td>\n      <td>Cincinnati, OH</td>\n      <td>501 to 1000 Employees</td>\n      <td>2008</td>\n      <td>Company - Public</td>\n      <td>Biotech &amp; Pharmaceuticals</td>\n      <td>Biotech &amp; Pharmaceuticals</td>\n      <td>Unknown / Non-Applicable</td>\n    </tr>\n    <tr>\n      <th>5886</th>\n      <td>Senior Data Analyst - Product Analytics (open ...</td>\n      <td>67  -  111  (Glassdoor est.)</td>\n      <td>4.0</td>\n      <td>New Relic\\n4.0</td>\n      <td>Cincinnati, OH</td>\n      <td>1001 to 5000 Employees</td>\n      <td>2008</td>\n      <td>Company - Public</td>\n      <td>Computer Hardware &amp; Software</td>\n      <td>Information Technology</td>\n      <td>$100 to $500 million (USD)</td>\n    </tr>\n    <tr>\n      <th>5887</th>\n      <td>Manufacturing Data Analyst Engineer</td>\n      <td>42  -  76  (Glassdoor est.)</td>\n      <td>3.6</td>\n      <td>Hose Master\\n3.6</td>\n      <td>Euclid, OH</td>\n      <td>201 to 500 Employees</td>\n      <td>1982</td>\n      <td>Company - Private</td>\n      <td>Electrical &amp; Electronic Manufacturing</td>\n      <td>Manufacturing</td>\n      <td>Unknown / Non-Applicable</td>\n    </tr>\n    <tr>\n      <th>5891</th>\n      <td>Data Scientist/ Full Stack Developer</td>\n      <td>65 -  72 Per Hour</td>\n      <td>3.7</td>\n      <td>Epitec\\n3.7</td>\n      <td>Wisconsin, WI</td>\n      <td>1001 to 5000 Employees</td>\n      <td>1978</td>\n      <td>Company - Private</td>\n      <td>Staffing &amp; Outsourcing</td>\n      <td>Business Services</td>\n      <td>$100 to $500 million (USD)</td>\n    </tr>\n  </tbody>\n</table>\n<p>5526 rows × 11 columns</p>\n</div>"
     },
     "execution_count": 52,
     "metadata": {},
     "output_type": "execute_result"
    }
   ],
   "source": [
    "df"
   ],
   "metadata": {
    "collapsed": false,
    "ExecuteTime": {
     "end_time": "2023-12-06T11:39:39.586185500Z",
     "start_time": "2023-12-06T11:39:39.554881700Z"
    }
   },
   "id": "7faf6e3f499fa694"
  },
  {
   "cell_type": "code",
   "execution_count": 54,
   "outputs": [
    {
     "name": "stdout",
     "output_type": "stream",
     "text": [
      "<class 'pandas.core.frame.DataFrame'>\n",
      "Index: 5526 entries, 0 to 5891\n",
      "Data columns (total 11 columns):\n",
      " #   Column             Non-Null Count  Dtype  \n",
      "---  ------             --------------  -----  \n",
      " 0   Job Title          5526 non-null   object \n",
      " 1   Salary Estimate    5526 non-null   object \n",
      " 2   Rating             5526 non-null   float64\n",
      " 3   Company Name       5526 non-null   object \n",
      " 4   Location           5526 non-null   object \n",
      " 5   Size               5526 non-null   object \n",
      " 6   Founded            5526 non-null   object \n",
      " 7   Type of ownership  5526 non-null   object \n",
      " 8   Industry           5526 non-null   object \n",
      " 9   Sector             5526 non-null   object \n",
      " 10  Revenue            5526 non-null   object \n",
      "dtypes: float64(1), object(10)\n",
      "memory usage: 518.1+ KB\n"
     ]
    }
   ],
   "source": [
    "df.info()"
   ],
   "metadata": {
    "collapsed": false,
    "ExecuteTime": {
     "end_time": "2023-12-06T11:40:06.967273500Z",
     "start_time": "2023-12-06T11:40:06.952663700Z"
    }
   },
   "id": "7c951d65f653904e"
  },
  {
   "cell_type": "code",
   "execution_count": 56,
   "outputs": [
    {
     "data": {
      "text/plain": "0         111 - 181  (Glassdoor est.)\n1         111 - 181  (Glassdoor est.)\n2         111 - 181  (Glassdoor est.)\n3         111 - 181  (Glassdoor est.)\n4         111 - 181  (Glassdoor est.)\n                    ...              \n5882      47  -  89  (Glassdoor est.)\n5883     66  -  113  (Glassdoor est.)\n5886     67  -  111  (Glassdoor est.)\n5887      42  -  76  (Glassdoor est.)\n5891                65 -  72 Per Hour\nName: Salary Estimate, Length: 5526, dtype: object"
     },
     "execution_count": 56,
     "metadata": {},
     "output_type": "execute_result"
    }
   ],
   "source": [
    "df['Salary Estimate']"
   ],
   "metadata": {
    "collapsed": false,
    "ExecuteTime": {
     "end_time": "2023-12-06T11:41:03.299471500Z",
     "start_time": "2023-12-06T11:41:03.289959200Z"
    }
   },
   "id": "cb18367e2502597b"
  },
  {
   "cell_type": "code",
   "execution_count": 58,
   "outputs": [
    {
     "data": {
      "text/plain": "0       False\n1       False\n2       False\n3       False\n4       False\n        ...  \n5882    False\n5883    False\n5886    False\n5887    False\n5891     True\nName: Salary Estimate, Length: 5526, dtype: bool"
     },
     "execution_count": 58,
     "metadata": {},
     "output_type": "execute_result"
    }
   ],
   "source": [
    "df['Salary Estimate'].str.contains('Per Hour')"
   ],
   "metadata": {
    "collapsed": false,
    "ExecuteTime": {
     "end_time": "2023-12-06T11:43:39.597473200Z",
     "start_time": "2023-12-06T11:43:39.581719Z"
    }
   },
   "id": "9900cc60b517f462"
  },
  {
   "cell_type": "code",
   "execution_count": 61,
   "outputs": [],
   "source": [
    "df=df[~df['Salary Estimate'].str.contains('Per Hour')]"
   ],
   "metadata": {
    "collapsed": false,
    "ExecuteTime": {
     "end_time": "2023-12-06T11:45:17.087190300Z",
     "start_time": "2023-12-06T11:45:17.065113400Z"
    }
   },
   "id": "35b8816bec7e4faa"
  },
  {
   "cell_type": "code",
   "execution_count": 63,
   "outputs": [
    {
     "data": {
      "text/plain": "0         111 - 181  (Glassdoor est.)\n1         111 - 181  (Glassdoor est.)\n2         111 - 181  (Glassdoor est.)\n3         111 - 181  (Glassdoor est.)\n4         111 - 181  (Glassdoor est.)\n                    ...              \n5881      38  -  64  (Glassdoor est.)\n5882      47  -  89  (Glassdoor est.)\n5883     66  -  113  (Glassdoor est.)\n5886     67  -  111  (Glassdoor est.)\n5887      42  -  76  (Glassdoor est.)\nName: Salary Estimate, Length: 5500, dtype: object"
     },
     "execution_count": 63,
     "metadata": {},
     "output_type": "execute_result"
    }
   ],
   "source": [
    "df['Salary Estimate']"
   ],
   "metadata": {
    "collapsed": false,
    "ExecuteTime": {
     "end_time": "2023-12-06T11:45:55.504365300Z",
     "start_time": "2023-12-06T11:45:55.488482400Z"
    }
   },
   "id": "bfedd16602d13549"
  },
  {
   "cell_type": "code",
   "execution_count": 66,
   "outputs": [
    {
     "data": {
      "text/plain": "                                              Job Title  \\\n0                                 Senior Data Scientist   \n1                     Data Scientist, Product Analytics   \n2                                  Data Science Manager   \n3                                          Data Analyst   \n4                                Director, Data Science   \n...                                                 ...   \n5881                              Information Scientist   \n5882              Supervisory Research Health Scientist   \n5883                  Senior SAS Programmer (Scientist)   \n5886  Senior Data Analyst - Product Analytics (open ...   \n5887                Manufacturing Data Analyst Engineer   \n\n                    Salary Estimate  Rating  \\\n0       111 - 181  (Glassdoor est.)     3.5   \n1       111 - 181  (Glassdoor est.)     4.5   \n2       111 - 181  (Glassdoor est.)    -1.0   \n3       111 - 181  (Glassdoor est.)     3.4   \n4       111 - 181  (Glassdoor est.)     3.4   \n...                             ...     ...   \n5881    38  -  64  (Glassdoor est.)     3.2   \n5882    47  -  89  (Glassdoor est.)     4.2   \n5883   66  -  113  (Glassdoor est.)     4.0   \n5886   67  -  111  (Glassdoor est.)     4.0   \n5887    42  -  76  (Glassdoor est.)     3.6   \n\n                                         Company Name        Location  \\\n0                                         Hopper\\n3.5    New York, NY   \n1                                        Noom US\\n4.5    New York, NY   \n2                                            Decode_M    New York, NY   \n3                               Sapphire Digital\\n3.4   Lyndhurst, NJ   \n4                     United Entertainment Group\\n3.4    New York, NY   \n...                                               ...             ...   \n5881                                         CAS\\n3.2    Columbus, OH   \n5882  Centers for Disease Control and Prevention\\n4.2  Cincinnati, OH   \n5883                                     Certara\\n4.0  Cincinnati, OH   \n5886                                   New Relic\\n4.0  Cincinnati, OH   \n5887                                 Hose Master\\n3.6      Euclid, OH   \n\n                        Size Founded               Type of ownership  \\\n0      501 to 1000 employees    2007               Company - Private   \n1     1001 to 5000 employees    2008               Company - Private   \n2          1 to 50 employees      -1                         Unknown   \n3       201 to 500 employees    2019               Company - Private   \n4        51 to 200 employees    2007               Company - Private   \n...                      ...     ...                             ...   \n5881  1001 to 5000 Employees    1907  Subsidiary or Business Segment   \n5882        10000+ Employees    1946                      Government   \n5883   501 to 1000 Employees    2008                Company - Public   \n5886  1001 to 5000 Employees    2008                Company - Public   \n5887    201 to 500 Employees    1982               Company - Private   \n\n                                     Industry                     Sector  \\\n0                             Travel Agencies           Travel & Tourism   \n1                   Health, Beauty, & Fitness          Consumer Services   \n2                                          -1                         -1   \n3                                    Internet     Information Technology   \n4                     Advertising & Marketing          Business Services   \n...                                       ...                        ...   \n5881  Enterprise Software & Network Solutions     Information Technology   \n5882                         Federal Agencies                 Government   \n5883                Biotech & Pharmaceuticals  Biotech & Pharmaceuticals   \n5886             Computer Hardware & Software     Information Technology   \n5887    Electrical & Electronic Manufacturing              Manufacturing   \n\n                         Revenue  \n0       Unknown / Non-Applicable  \n1       Unknown / Non-Applicable  \n2       Unknown / Non-Applicable  \n3       Unknown / Non-Applicable  \n4       Unknown / Non-Applicable  \n...                          ...  \n5881  $100 to $500 million (USD)  \n5882    Unknown / Non-Applicable  \n5883    Unknown / Non-Applicable  \n5886  $100 to $500 million (USD)  \n5887    Unknown / Non-Applicable  \n\n[5500 rows x 11 columns]",
      "text/html": "<div>\n<style scoped>\n    .dataframe tbody tr th:only-of-type {\n        vertical-align: middle;\n    }\n\n    .dataframe tbody tr th {\n        vertical-align: top;\n    }\n\n    .dataframe thead th {\n        text-align: right;\n    }\n</style>\n<table border=\"1\" class=\"dataframe\">\n  <thead>\n    <tr style=\"text-align: right;\">\n      <th></th>\n      <th>Job Title</th>\n      <th>Salary Estimate</th>\n      <th>Rating</th>\n      <th>Company Name</th>\n      <th>Location</th>\n      <th>Size</th>\n      <th>Founded</th>\n      <th>Type of ownership</th>\n      <th>Industry</th>\n      <th>Sector</th>\n      <th>Revenue</th>\n    </tr>\n  </thead>\n  <tbody>\n    <tr>\n      <th>0</th>\n      <td>Senior Data Scientist</td>\n      <td>111 - 181  (Glassdoor est.)</td>\n      <td>3.5</td>\n      <td>Hopper\\n3.5</td>\n      <td>New York, NY</td>\n      <td>501 to 1000 employees</td>\n      <td>2007</td>\n      <td>Company - Private</td>\n      <td>Travel Agencies</td>\n      <td>Travel &amp; Tourism</td>\n      <td>Unknown / Non-Applicable</td>\n    </tr>\n    <tr>\n      <th>1</th>\n      <td>Data Scientist, Product Analytics</td>\n      <td>111 - 181  (Glassdoor est.)</td>\n      <td>4.5</td>\n      <td>Noom US\\n4.5</td>\n      <td>New York, NY</td>\n      <td>1001 to 5000 employees</td>\n      <td>2008</td>\n      <td>Company - Private</td>\n      <td>Health, Beauty, &amp; Fitness</td>\n      <td>Consumer Services</td>\n      <td>Unknown / Non-Applicable</td>\n    </tr>\n    <tr>\n      <th>2</th>\n      <td>Data Science Manager</td>\n      <td>111 - 181  (Glassdoor est.)</td>\n      <td>-1.0</td>\n      <td>Decode_M</td>\n      <td>New York, NY</td>\n      <td>1 to 50 employees</td>\n      <td>-1</td>\n      <td>Unknown</td>\n      <td>-1</td>\n      <td>-1</td>\n      <td>Unknown / Non-Applicable</td>\n    </tr>\n    <tr>\n      <th>3</th>\n      <td>Data Analyst</td>\n      <td>111 - 181  (Glassdoor est.)</td>\n      <td>3.4</td>\n      <td>Sapphire Digital\\n3.4</td>\n      <td>Lyndhurst, NJ</td>\n      <td>201 to 500 employees</td>\n      <td>2019</td>\n      <td>Company - Private</td>\n      <td>Internet</td>\n      <td>Information Technology</td>\n      <td>Unknown / Non-Applicable</td>\n    </tr>\n    <tr>\n      <th>4</th>\n      <td>Director, Data Science</td>\n      <td>111 - 181  (Glassdoor est.)</td>\n      <td>3.4</td>\n      <td>United Entertainment Group\\n3.4</td>\n      <td>New York, NY</td>\n      <td>51 to 200 employees</td>\n      <td>2007</td>\n      <td>Company - Private</td>\n      <td>Advertising &amp; Marketing</td>\n      <td>Business Services</td>\n      <td>Unknown / Non-Applicable</td>\n    </tr>\n    <tr>\n      <th>...</th>\n      <td>...</td>\n      <td>...</td>\n      <td>...</td>\n      <td>...</td>\n      <td>...</td>\n      <td>...</td>\n      <td>...</td>\n      <td>...</td>\n      <td>...</td>\n      <td>...</td>\n      <td>...</td>\n    </tr>\n    <tr>\n      <th>5881</th>\n      <td>Information Scientist</td>\n      <td>38  -  64  (Glassdoor est.)</td>\n      <td>3.2</td>\n      <td>CAS\\n3.2</td>\n      <td>Columbus, OH</td>\n      <td>1001 to 5000 Employees</td>\n      <td>1907</td>\n      <td>Subsidiary or Business Segment</td>\n      <td>Enterprise Software &amp; Network Solutions</td>\n      <td>Information Technology</td>\n      <td>$100 to $500 million (USD)</td>\n    </tr>\n    <tr>\n      <th>5882</th>\n      <td>Supervisory Research Health Scientist</td>\n      <td>47  -  89  (Glassdoor est.)</td>\n      <td>4.2</td>\n      <td>Centers for Disease Control and Prevention\\n4.2</td>\n      <td>Cincinnati, OH</td>\n      <td>10000+ Employees</td>\n      <td>1946</td>\n      <td>Government</td>\n      <td>Federal Agencies</td>\n      <td>Government</td>\n      <td>Unknown / Non-Applicable</td>\n    </tr>\n    <tr>\n      <th>5883</th>\n      <td>Senior SAS Programmer (Scientist)</td>\n      <td>66  -  113  (Glassdoor est.)</td>\n      <td>4.0</td>\n      <td>Certara\\n4.0</td>\n      <td>Cincinnati, OH</td>\n      <td>501 to 1000 Employees</td>\n      <td>2008</td>\n      <td>Company - Public</td>\n      <td>Biotech &amp; Pharmaceuticals</td>\n      <td>Biotech &amp; Pharmaceuticals</td>\n      <td>Unknown / Non-Applicable</td>\n    </tr>\n    <tr>\n      <th>5886</th>\n      <td>Senior Data Analyst - Product Analytics (open ...</td>\n      <td>67  -  111  (Glassdoor est.)</td>\n      <td>4.0</td>\n      <td>New Relic\\n4.0</td>\n      <td>Cincinnati, OH</td>\n      <td>1001 to 5000 Employees</td>\n      <td>2008</td>\n      <td>Company - Public</td>\n      <td>Computer Hardware &amp; Software</td>\n      <td>Information Technology</td>\n      <td>$100 to $500 million (USD)</td>\n    </tr>\n    <tr>\n      <th>5887</th>\n      <td>Manufacturing Data Analyst Engineer</td>\n      <td>42  -  76  (Glassdoor est.)</td>\n      <td>3.6</td>\n      <td>Hose Master\\n3.6</td>\n      <td>Euclid, OH</td>\n      <td>201 to 500 Employees</td>\n      <td>1982</td>\n      <td>Company - Private</td>\n      <td>Electrical &amp; Electronic Manufacturing</td>\n      <td>Manufacturing</td>\n      <td>Unknown / Non-Applicable</td>\n    </tr>\n  </tbody>\n</table>\n<p>5500 rows × 11 columns</p>\n</div>"
     },
     "execution_count": 66,
     "metadata": {},
     "output_type": "execute_result"
    }
   ],
   "source": [
    "df"
   ],
   "metadata": {
    "collapsed": false,
    "ExecuteTime": {
     "end_time": "2023-12-06T11:47:03.443466200Z",
     "start_time": "2023-12-06T11:47:03.427661900Z"
    }
   },
   "id": "38b3db9159b1222f"
  },
  {
   "cell_type": "code",
   "execution_count": 68,
   "outputs": [
    {
     "name": "stdout",
     "output_type": "stream",
     "text": [
      "<class 'pandas.core.frame.DataFrame'>\n",
      "Index: 5500 entries, 0 to 5887\n",
      "Data columns (total 11 columns):\n",
      " #   Column             Non-Null Count  Dtype  \n",
      "---  ------             --------------  -----  \n",
      " 0   Job Title          5500 non-null   object \n",
      " 1   Salary Estimate    5500 non-null   object \n",
      " 2   Rating             5500 non-null   float64\n",
      " 3   Company Name       5500 non-null   object \n",
      " 4   Location           5500 non-null   object \n",
      " 5   Size               5500 non-null   object \n",
      " 6   Founded            5500 non-null   object \n",
      " 7   Type of ownership  5500 non-null   object \n",
      " 8   Industry           5500 non-null   object \n",
      " 9   Sector             5500 non-null   object \n",
      " 10  Revenue            5500 non-null   object \n",
      "dtypes: float64(1), object(10)\n",
      "memory usage: 515.6+ KB\n"
     ]
    }
   ],
   "source": [
    "df.info()"
   ],
   "metadata": {
    "collapsed": false,
    "ExecuteTime": {
     "end_time": "2023-12-06T11:48:06.821907500Z",
     "start_time": "2023-12-06T11:48:06.809010600Z"
    }
   },
   "id": "2f89aaa3ef2b5e21"
  },
  {
   "cell_type": "code",
   "execution_count": 70,
   "outputs": [
    {
     "data": {
      "text/plain": "                                         Job Title  \\\n0                            Senior Data Scientist   \n4                           Director, Data Science   \n110                                 Data Scientist   \n132                                 Data Scientist   \n144   Quantitative Researcher - Portfolio Modeling   \n...                                            ...   \n5196                                  Data Analyst   \n5204                          Junior Data Engineer   \n5387                                Data Scientist   \n5568                 Business Intelligence Analyst   \n5658                       Data Scientist (remote)   \n\n                    Salary Estimate  Rating  \\\n0       111 - 181  (Glassdoor est.)     3.5   \n4       111 - 181  (Glassdoor est.)     3.4   \n110     102 - 121  (Glassdoor est.)     4.0   \n132     102 - 121  (Glassdoor est.)     3.6   \n144     129 - 210  (Glassdoor est.)    -1.0   \n...                             ...     ...   \n5196    53  -  97  (Glassdoor est.)     3.9   \n5204    44  -  97  (Glassdoor est.)     4.6   \n5387   58  -  125  (Glassdoor est.)     5.0   \n5568    61  -  74  (Glassdoor est.)     4.1   \n5658   56  -  115  (Glassdoor est.)     4.7   \n\n                            Company Name           Location  \\\n0                            Hopper\\n3.5       New York, NY   \n4        United Entertainment Group\\n3.4       New York, NY   \n110                         OneWire\\n4.0       New York, NY   \n132   Strategic Financial Solutions\\n3.6       New York, NY   \n144                 Edward Daniels Group       New York, NY   \n...                                  ...                ...   \n5196                   ProQuest LLC\\n3.9      Ann Arbor, MI   \n5204                      Afia Inc.\\n4.6      Ann Arbor, MI   \n5387             Brilliant Infotech\\n5.0          Ewing, NJ   \n5568                          eToro\\n4.1        Hoboken, NJ   \n5658             Vertical Knowledge\\n4.7  Chagrin Falls, OH   \n\n                        Size Founded  Type of ownership  \\\n0      501 to 1000 employees    2007  Company - Private   \n4        51 to 200 employees    2007  Company - Private   \n110        1 to 50 employees    2007  Company - Private   \n132    501 to 1000 employees    2007  Company - Private   \n144        1 to 50 employees    2007  Company - Private   \n...                      ...     ...                ...   \n5196  1001 to 5000 Employees    2007  Company - Private   \n5204       1 to 50 Employees    2007  Company - Private   \n5387     51 to 200 Employees    2007  Company - Private   \n5568  1001 to 5000 Employees    2007  Company - Private   \n5658     51 to 200 Employees    2007  Company - Private   \n\n                                     Industry                  Sector  \\\n0                             Travel Agencies        Travel & Tourism   \n4                     Advertising & Marketing       Business Services   \n110                    Staffing & Outsourcing       Business Services   \n132                   Consumer Product Rental       Consumer Services   \n144                               IT Services  Information Technology   \n...                                       ...                     ...   \n5196                                 Internet  Information Technology   \n5204                               Consulting       Business Services   \n5387                              IT Services  Information Technology   \n5568         Financial Transaction Processing                 Finance   \n5658  Enterprise Software & Network Solutions  Information Technology   \n\n                               Revenue  \n0             Unknown / Non-Applicable  \n4             Unknown / Non-Applicable  \n110             $1 to $5 million (USD)  \n132           Unknown / Non-Applicable  \n144             $1 to $5 million (USD)  \n...                                ...  \n5196  $500 million to $1 billion (USD)  \n5204           $5 to $10 million (USD)  \n5387           $5 to $10 million (USD)  \n5568        $100 to $500 million (USD)  \n5658          $10 to $25 million (USD)  \n\n[97 rows x 11 columns]",
      "text/html": "<div>\n<style scoped>\n    .dataframe tbody tr th:only-of-type {\n        vertical-align: middle;\n    }\n\n    .dataframe tbody tr th {\n        vertical-align: top;\n    }\n\n    .dataframe thead th {\n        text-align: right;\n    }\n</style>\n<table border=\"1\" class=\"dataframe\">\n  <thead>\n    <tr style=\"text-align: right;\">\n      <th></th>\n      <th>Job Title</th>\n      <th>Salary Estimate</th>\n      <th>Rating</th>\n      <th>Company Name</th>\n      <th>Location</th>\n      <th>Size</th>\n      <th>Founded</th>\n      <th>Type of ownership</th>\n      <th>Industry</th>\n      <th>Sector</th>\n      <th>Revenue</th>\n    </tr>\n  </thead>\n  <tbody>\n    <tr>\n      <th>0</th>\n      <td>Senior Data Scientist</td>\n      <td>111 - 181  (Glassdoor est.)</td>\n      <td>3.5</td>\n      <td>Hopper\\n3.5</td>\n      <td>New York, NY</td>\n      <td>501 to 1000 employees</td>\n      <td>2007</td>\n      <td>Company - Private</td>\n      <td>Travel Agencies</td>\n      <td>Travel &amp; Tourism</td>\n      <td>Unknown / Non-Applicable</td>\n    </tr>\n    <tr>\n      <th>4</th>\n      <td>Director, Data Science</td>\n      <td>111 - 181  (Glassdoor est.)</td>\n      <td>3.4</td>\n      <td>United Entertainment Group\\n3.4</td>\n      <td>New York, NY</td>\n      <td>51 to 200 employees</td>\n      <td>2007</td>\n      <td>Company - Private</td>\n      <td>Advertising &amp; Marketing</td>\n      <td>Business Services</td>\n      <td>Unknown / Non-Applicable</td>\n    </tr>\n    <tr>\n      <th>110</th>\n      <td>Data Scientist</td>\n      <td>102 - 121  (Glassdoor est.)</td>\n      <td>4.0</td>\n      <td>OneWire\\n4.0</td>\n      <td>New York, NY</td>\n      <td>1 to 50 employees</td>\n      <td>2007</td>\n      <td>Company - Private</td>\n      <td>Staffing &amp; Outsourcing</td>\n      <td>Business Services</td>\n      <td>$1 to $5 million (USD)</td>\n    </tr>\n    <tr>\n      <th>132</th>\n      <td>Data Scientist</td>\n      <td>102 - 121  (Glassdoor est.)</td>\n      <td>3.6</td>\n      <td>Strategic Financial Solutions\\n3.6</td>\n      <td>New York, NY</td>\n      <td>501 to 1000 employees</td>\n      <td>2007</td>\n      <td>Company - Private</td>\n      <td>Consumer Product Rental</td>\n      <td>Consumer Services</td>\n      <td>Unknown / Non-Applicable</td>\n    </tr>\n    <tr>\n      <th>144</th>\n      <td>Quantitative Researcher - Portfolio Modeling</td>\n      <td>129 - 210  (Glassdoor est.)</td>\n      <td>-1.0</td>\n      <td>Edward Daniels Group</td>\n      <td>New York, NY</td>\n      <td>1 to 50 employees</td>\n      <td>2007</td>\n      <td>Company - Private</td>\n      <td>IT Services</td>\n      <td>Information Technology</td>\n      <td>$1 to $5 million (USD)</td>\n    </tr>\n    <tr>\n      <th>...</th>\n      <td>...</td>\n      <td>...</td>\n      <td>...</td>\n      <td>...</td>\n      <td>...</td>\n      <td>...</td>\n      <td>...</td>\n      <td>...</td>\n      <td>...</td>\n      <td>...</td>\n      <td>...</td>\n    </tr>\n    <tr>\n      <th>5196</th>\n      <td>Data Analyst</td>\n      <td>53  -  97  (Glassdoor est.)</td>\n      <td>3.9</td>\n      <td>ProQuest LLC\\n3.9</td>\n      <td>Ann Arbor, MI</td>\n      <td>1001 to 5000 Employees</td>\n      <td>2007</td>\n      <td>Company - Private</td>\n      <td>Internet</td>\n      <td>Information Technology</td>\n      <td>$500 million to $1 billion (USD)</td>\n    </tr>\n    <tr>\n      <th>5204</th>\n      <td>Junior Data Engineer</td>\n      <td>44  -  97  (Glassdoor est.)</td>\n      <td>4.6</td>\n      <td>Afia Inc.\\n4.6</td>\n      <td>Ann Arbor, MI</td>\n      <td>1 to 50 Employees</td>\n      <td>2007</td>\n      <td>Company - Private</td>\n      <td>Consulting</td>\n      <td>Business Services</td>\n      <td>$5 to $10 million (USD)</td>\n    </tr>\n    <tr>\n      <th>5387</th>\n      <td>Data Scientist</td>\n      <td>58  -  125  (Glassdoor est.)</td>\n      <td>5.0</td>\n      <td>Brilliant Infotech\\n5.0</td>\n      <td>Ewing, NJ</td>\n      <td>51 to 200 Employees</td>\n      <td>2007</td>\n      <td>Company - Private</td>\n      <td>IT Services</td>\n      <td>Information Technology</td>\n      <td>$5 to $10 million (USD)</td>\n    </tr>\n    <tr>\n      <th>5568</th>\n      <td>Business Intelligence Analyst</td>\n      <td>61  -  74  (Glassdoor est.)</td>\n      <td>4.1</td>\n      <td>eToro\\n4.1</td>\n      <td>Hoboken, NJ</td>\n      <td>1001 to 5000 Employees</td>\n      <td>2007</td>\n      <td>Company - Private</td>\n      <td>Financial Transaction Processing</td>\n      <td>Finance</td>\n      <td>$100 to $500 million (USD)</td>\n    </tr>\n    <tr>\n      <th>5658</th>\n      <td>Data Scientist (remote)</td>\n      <td>56  -  115  (Glassdoor est.)</td>\n      <td>4.7</td>\n      <td>Vertical Knowledge\\n4.7</td>\n      <td>Chagrin Falls, OH</td>\n      <td>51 to 200 Employees</td>\n      <td>2007</td>\n      <td>Company - Private</td>\n      <td>Enterprise Software &amp; Network Solutions</td>\n      <td>Information Technology</td>\n      <td>$10 to $25 million (USD)</td>\n    </tr>\n  </tbody>\n</table>\n<p>97 rows × 11 columns</p>\n</div>"
     },
     "execution_count": 70,
     "metadata": {},
     "output_type": "execute_result"
    }
   ],
   "source": [
    "df[df['Founded']=='2007']"
   ],
   "metadata": {
    "collapsed": false,
    "ExecuteTime": {
     "end_time": "2023-12-06T11:49:12.663826500Z",
     "start_time": "2023-12-06T11:49:12.652261Z"
    }
   },
   "id": "41a86ce0aabc4daf"
  },
  {
   "cell_type": "code",
   "execution_count": 72,
   "outputs": [],
   "source": [
    "df['Rating']=df['Rating'].apply(int)"
   ],
   "metadata": {
    "collapsed": false,
    "ExecuteTime": {
     "end_time": "2023-12-06T11:50:37.595835100Z",
     "start_time": "2023-12-06T11:50:37.534511900Z"
    }
   },
   "id": "134097d502056bfa"
  },
  {
   "cell_type": "code",
   "execution_count": 73,
   "outputs": [
    {
     "data": {
      "text/plain": "                                              Job Title  \\\n0                                 Senior Data Scientist   \n1                     Data Scientist, Product Analytics   \n2                                  Data Science Manager   \n3                                          Data Analyst   \n4                                Director, Data Science   \n...                                                 ...   \n5881                              Information Scientist   \n5882              Supervisory Research Health Scientist   \n5883                  Senior SAS Programmer (Scientist)   \n5886  Senior Data Analyst - Product Analytics (open ...   \n5887                Manufacturing Data Analyst Engineer   \n\n                    Salary Estimate  Rating  \\\n0       111 - 181  (Glassdoor est.)       3   \n1       111 - 181  (Glassdoor est.)       4   \n2       111 - 181  (Glassdoor est.)      -1   \n3       111 - 181  (Glassdoor est.)       3   \n4       111 - 181  (Glassdoor est.)       3   \n...                             ...     ...   \n5881    38  -  64  (Glassdoor est.)       3   \n5882    47  -  89  (Glassdoor est.)       4   \n5883   66  -  113  (Glassdoor est.)       4   \n5886   67  -  111  (Glassdoor est.)       4   \n5887    42  -  76  (Glassdoor est.)       3   \n\n                                         Company Name        Location  \\\n0                                         Hopper\\n3.5    New York, NY   \n1                                        Noom US\\n4.5    New York, NY   \n2                                            Decode_M    New York, NY   \n3                               Sapphire Digital\\n3.4   Lyndhurst, NJ   \n4                     United Entertainment Group\\n3.4    New York, NY   \n...                                               ...             ...   \n5881                                         CAS\\n3.2    Columbus, OH   \n5882  Centers for Disease Control and Prevention\\n4.2  Cincinnati, OH   \n5883                                     Certara\\n4.0  Cincinnati, OH   \n5886                                   New Relic\\n4.0  Cincinnati, OH   \n5887                                 Hose Master\\n3.6      Euclid, OH   \n\n                        Size Founded               Type of ownership  \\\n0      501 to 1000 employees    2007               Company - Private   \n1     1001 to 5000 employees    2008               Company - Private   \n2          1 to 50 employees      -1                         Unknown   \n3       201 to 500 employees    2019               Company - Private   \n4        51 to 200 employees    2007               Company - Private   \n...                      ...     ...                             ...   \n5881  1001 to 5000 Employees    1907  Subsidiary or Business Segment   \n5882        10000+ Employees    1946                      Government   \n5883   501 to 1000 Employees    2008                Company - Public   \n5886  1001 to 5000 Employees    2008                Company - Public   \n5887    201 to 500 Employees    1982               Company - Private   \n\n                                     Industry                     Sector  \\\n0                             Travel Agencies           Travel & Tourism   \n1                   Health, Beauty, & Fitness          Consumer Services   \n2                                          -1                         -1   \n3                                    Internet     Information Technology   \n4                     Advertising & Marketing          Business Services   \n...                                       ...                        ...   \n5881  Enterprise Software & Network Solutions     Information Technology   \n5882                         Federal Agencies                 Government   \n5883                Biotech & Pharmaceuticals  Biotech & Pharmaceuticals   \n5886             Computer Hardware & Software     Information Technology   \n5887    Electrical & Electronic Manufacturing              Manufacturing   \n\n                         Revenue  \n0       Unknown / Non-Applicable  \n1       Unknown / Non-Applicable  \n2       Unknown / Non-Applicable  \n3       Unknown / Non-Applicable  \n4       Unknown / Non-Applicable  \n...                          ...  \n5881  $100 to $500 million (USD)  \n5882    Unknown / Non-Applicable  \n5883    Unknown / Non-Applicable  \n5886  $100 to $500 million (USD)  \n5887    Unknown / Non-Applicable  \n\n[5500 rows x 11 columns]",
      "text/html": "<div>\n<style scoped>\n    .dataframe tbody tr th:only-of-type {\n        vertical-align: middle;\n    }\n\n    .dataframe tbody tr th {\n        vertical-align: top;\n    }\n\n    .dataframe thead th {\n        text-align: right;\n    }\n</style>\n<table border=\"1\" class=\"dataframe\">\n  <thead>\n    <tr style=\"text-align: right;\">\n      <th></th>\n      <th>Job Title</th>\n      <th>Salary Estimate</th>\n      <th>Rating</th>\n      <th>Company Name</th>\n      <th>Location</th>\n      <th>Size</th>\n      <th>Founded</th>\n      <th>Type of ownership</th>\n      <th>Industry</th>\n      <th>Sector</th>\n      <th>Revenue</th>\n    </tr>\n  </thead>\n  <tbody>\n    <tr>\n      <th>0</th>\n      <td>Senior Data Scientist</td>\n      <td>111 - 181  (Glassdoor est.)</td>\n      <td>3</td>\n      <td>Hopper\\n3.5</td>\n      <td>New York, NY</td>\n      <td>501 to 1000 employees</td>\n      <td>2007</td>\n      <td>Company - Private</td>\n      <td>Travel Agencies</td>\n      <td>Travel &amp; Tourism</td>\n      <td>Unknown / Non-Applicable</td>\n    </tr>\n    <tr>\n      <th>1</th>\n      <td>Data Scientist, Product Analytics</td>\n      <td>111 - 181  (Glassdoor est.)</td>\n      <td>4</td>\n      <td>Noom US\\n4.5</td>\n      <td>New York, NY</td>\n      <td>1001 to 5000 employees</td>\n      <td>2008</td>\n      <td>Company - Private</td>\n      <td>Health, Beauty, &amp; Fitness</td>\n      <td>Consumer Services</td>\n      <td>Unknown / Non-Applicable</td>\n    </tr>\n    <tr>\n      <th>2</th>\n      <td>Data Science Manager</td>\n      <td>111 - 181  (Glassdoor est.)</td>\n      <td>-1</td>\n      <td>Decode_M</td>\n      <td>New York, NY</td>\n      <td>1 to 50 employees</td>\n      <td>-1</td>\n      <td>Unknown</td>\n      <td>-1</td>\n      <td>-1</td>\n      <td>Unknown / Non-Applicable</td>\n    </tr>\n    <tr>\n      <th>3</th>\n      <td>Data Analyst</td>\n      <td>111 - 181  (Glassdoor est.)</td>\n      <td>3</td>\n      <td>Sapphire Digital\\n3.4</td>\n      <td>Lyndhurst, NJ</td>\n      <td>201 to 500 employees</td>\n      <td>2019</td>\n      <td>Company - Private</td>\n      <td>Internet</td>\n      <td>Information Technology</td>\n      <td>Unknown / Non-Applicable</td>\n    </tr>\n    <tr>\n      <th>4</th>\n      <td>Director, Data Science</td>\n      <td>111 - 181  (Glassdoor est.)</td>\n      <td>3</td>\n      <td>United Entertainment Group\\n3.4</td>\n      <td>New York, NY</td>\n      <td>51 to 200 employees</td>\n      <td>2007</td>\n      <td>Company - Private</td>\n      <td>Advertising &amp; Marketing</td>\n      <td>Business Services</td>\n      <td>Unknown / Non-Applicable</td>\n    </tr>\n    <tr>\n      <th>...</th>\n      <td>...</td>\n      <td>...</td>\n      <td>...</td>\n      <td>...</td>\n      <td>...</td>\n      <td>...</td>\n      <td>...</td>\n      <td>...</td>\n      <td>...</td>\n      <td>...</td>\n      <td>...</td>\n    </tr>\n    <tr>\n      <th>5881</th>\n      <td>Information Scientist</td>\n      <td>38  -  64  (Glassdoor est.)</td>\n      <td>3</td>\n      <td>CAS\\n3.2</td>\n      <td>Columbus, OH</td>\n      <td>1001 to 5000 Employees</td>\n      <td>1907</td>\n      <td>Subsidiary or Business Segment</td>\n      <td>Enterprise Software &amp; Network Solutions</td>\n      <td>Information Technology</td>\n      <td>$100 to $500 million (USD)</td>\n    </tr>\n    <tr>\n      <th>5882</th>\n      <td>Supervisory Research Health Scientist</td>\n      <td>47  -  89  (Glassdoor est.)</td>\n      <td>4</td>\n      <td>Centers for Disease Control and Prevention\\n4.2</td>\n      <td>Cincinnati, OH</td>\n      <td>10000+ Employees</td>\n      <td>1946</td>\n      <td>Government</td>\n      <td>Federal Agencies</td>\n      <td>Government</td>\n      <td>Unknown / Non-Applicable</td>\n    </tr>\n    <tr>\n      <th>5883</th>\n      <td>Senior SAS Programmer (Scientist)</td>\n      <td>66  -  113  (Glassdoor est.)</td>\n      <td>4</td>\n      <td>Certara\\n4.0</td>\n      <td>Cincinnati, OH</td>\n      <td>501 to 1000 Employees</td>\n      <td>2008</td>\n      <td>Company - Public</td>\n      <td>Biotech &amp; Pharmaceuticals</td>\n      <td>Biotech &amp; Pharmaceuticals</td>\n      <td>Unknown / Non-Applicable</td>\n    </tr>\n    <tr>\n      <th>5886</th>\n      <td>Senior Data Analyst - Product Analytics (open ...</td>\n      <td>67  -  111  (Glassdoor est.)</td>\n      <td>4</td>\n      <td>New Relic\\n4.0</td>\n      <td>Cincinnati, OH</td>\n      <td>1001 to 5000 Employees</td>\n      <td>2008</td>\n      <td>Company - Public</td>\n      <td>Computer Hardware &amp; Software</td>\n      <td>Information Technology</td>\n      <td>$100 to $500 million (USD)</td>\n    </tr>\n    <tr>\n      <th>5887</th>\n      <td>Manufacturing Data Analyst Engineer</td>\n      <td>42  -  76  (Glassdoor est.)</td>\n      <td>3</td>\n      <td>Hose Master\\n3.6</td>\n      <td>Euclid, OH</td>\n      <td>201 to 500 Employees</td>\n      <td>1982</td>\n      <td>Company - Private</td>\n      <td>Electrical &amp; Electronic Manufacturing</td>\n      <td>Manufacturing</td>\n      <td>Unknown / Non-Applicable</td>\n    </tr>\n  </tbody>\n</table>\n<p>5500 rows × 11 columns</p>\n</div>"
     },
     "execution_count": 73,
     "metadata": {},
     "output_type": "execute_result"
    }
   ],
   "source": [
    "df"
   ],
   "metadata": {
    "collapsed": false,
    "ExecuteTime": {
     "end_time": "2023-12-06T11:50:51.113681100Z",
     "start_time": "2023-12-06T11:50:51.113681100Z"
    }
   },
   "id": "4902c55ec7c8b738"
  }
 ],
 "metadata": {
  "kernelspec": {
   "display_name": "Python 3",
   "language": "python",
   "name": "python3"
  },
  "language_info": {
   "codemirror_mode": {
    "name": "ipython",
    "version": 2
   },
   "file_extension": ".py",
   "mimetype": "text/x-python",
   "name": "python",
   "nbconvert_exporter": "python",
   "pygments_lexer": "ipython2",
   "version": "2.7.6"
  }
 },
 "nbformat": 4,
 "nbformat_minor": 5
}
